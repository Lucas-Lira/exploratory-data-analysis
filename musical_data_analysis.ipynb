{
  "cells": [
    {
      "cell_type": "markdown",
      "metadata": {
        "id": "view-in-github",
        "colab_type": "text"
      },
      "source": [
        "<a href=\"https://colab.research.google.com/github/Lucas-Lira/exploratory-data-analysis/blob/main/musical_data_analysis.ipynb\" target=\"_parent\"><img src=\"https://colab.research.google.com/assets/colab-badge.svg\" alt=\"Open In Colab\"/></a>"
      ]
    },
    {
      "cell_type": "markdown",
      "metadata": {
        "id": "-DWO9IfJLBrN"
      },
      "source": [
        "# Analise de Dados Musicais"
      ]
    },
    {
      "cell_type": "markdown",
      "source": [
        "## Contexto do Trabalho:\n",
        "\n",
        "### 1. Objetivo Principal\n",
        "\n",
        "Fornecer à uma empresa de música insights acionáveis sobre as tendências musicais recentes e auxiliar na definição de estratégias para o lançamento de um novo álbum, visando um aumento significativo no público ouvinte.\n",
        "\n",
        "### 2. Requisitos da Empresa\n",
        "\n",
        "* **Análise de Tendências Musicais**:\n",
        "    * Identificar os gêneros musicais mais populares.\n",
        "    * Analisar a evolução das preferências musicais ao longo dos últimos anos.\n",
        "    * Mapear as tendências emergentes e nichos de mercado relevantes.\n",
        "* **Perfil do Público Ouviinte**:\n",
        "    * Segmentar o público com base em dados demográficos, geográficos e comportamentais.\n",
        "    * Identificar os canais de consumo de música mais utilizados (streaming, rádio, redes sociais, etc.).\n",
        "    * Analisar o engajamento do público com diferentes tipos de conteúdo musical.\n",
        "* **Estratégias de Lançamento**:\n",
        "    * Avaliar o desempenho de lançamentos anteriores da empresa.\n",
        "    * Propor estratégias de marketing e promoção com base nas tendências e no perfil do público.\n",
        "    * Identificar potenciais parcerias e colaborações com outros artistas.\n",
        "* **Ferramentas e Tecnologias**:\n",
        "    * Utilizar ferramentas de análise de dados (Python, R, SQL, etc.).\n",
        "    * Explorar dados de plataformas de streaming (Spotify, Apple Music, etc.) e redes sociais (TikTok, Instagram, etc.).\n",
        "    * Desenvolver visualizações de dados claras e informativas.\n",
        "\n",
        "### 3. Possíveis Questões a Serem Respondidas\n",
        "\n",
        "* Quais são os gêneros musicais com maior potencial de crescimento nos próximos anos?\n",
        "* Como o comportamento do público ouvinte varia entre diferentes faixas etárias e regiões geográficas?\n",
        "* Quais são os principais fatores que influenciam o sucesso de um lançamento musical?\n",
        "* Quais estratégias de marketing digital são mais eficazes para atingir o público-alvo desejado?\n",
        "* Como a empresa pode utilizar dados para personalizar a experiência do ouvinte e aumentar o engajamento?\n",
        "* Qual o nível de aceitação de \"feats\" com artistas ja falecidos?\n",
        "* Qual o nível de engajamento do publico com músicas criadas por inteligência artificial?\n",
        "* De que forma a musica pode ser utilizada para aumentar o poder de concentração das pessoas durante as atividades profissionais e de estudo?\n",
        "\n",
        "### 4. Entregáveis Esperados\n",
        "\n",
        "* Relatórios detalhados com análises e insights sobre as tendências musicais e o perfil do público ouvinte.\n",
        "* Apresentações visuais claras e concisas dos dados e conclusões.\n",
        "* Recomendações estratégicas para o lançamento do novo álbum.\n",
        "\n",
        "### 5. Considerações Adicionais\n",
        "\n",
        "* O cientista de dados deve trabalhar em colaboração com as equipes de marketing, produção e artistas da empresa.\n",
        "* A análise deve ser baseada em dados confiáveis e representativos do mercado musical.\n",
        "* As recomendações devem ser práticas e aplicáveis à realidade da empresa.\n",
        "\n",
        "\n",
        "\n",
        "\n"
      ],
      "metadata": {
        "id": "NQPhJZvAEWlk"
      }
    },
    {
      "cell_type": "markdown",
      "metadata": {
        "id": "Pqwx0RyMLBrW"
      },
      "source": [
        "## Especificações da Base de Dados:\n",
        "   * Nome:\n",
        "       * Spotify Dataset 1921-2020, 600k+ Tracks\n",
        "    \n",
        "   * Estrutura:\n",
        "       * tracks.csv\n",
        "            * Primário :\n",
        "                - id (Id da trilha gerada pelo Spotify)\n",
        "            * Numérico :\n",
        "                - acousticness (varia de 0 a 1)\n",
        "                - danceability (varia de 0 a 1)\n",
        "                - energy (varia de 0 a 1)\n",
        "                - duration_ms (número inteiro normalmente varia de 200k a 300k)\n",
        "                - instrumentalness (varia de 0 a 1)\n",
        "                - valence (varia de 0 a 1)\n",
        "                - popularity (varia de 0 a 100)\n",
        "                - tempo (flutuação normalmente variando de 50 a 150)\n",
        "                - liveness (varia de 0 a 1)\n",
        "                - loudness (flutuação tipicamente variando de -60 a 0)\n",
        "                - speechiness (varia de 0 a 1)\n",
        "            * Fictício:\n",
        "                - mode (0 = Menor, 1 = Maior)\n",
        "                - explicit (0 = sem conteúdo explícito, 1 = conteúdo explícito)\n",
        "            * Categórico :\n",
        "                - key (todas as chaves na oitava codificadas como valores que variam de 0 a 11, começando em C como 0, C # como 1 e assim por diante ...)\n",
        "                - timesignature (a assinatura de tempo prevista, mais tipicamente 4)\n",
        "                - artists (lista dos artistas mencionados)\n",
        "                - artists_id (Ids dos artistas mencionados)\n",
        "                - release_date (data de lançamento principalmente no formato aaaa-mm-dd, no entanto, a precisão da data pode variar)\n",
        "                - name (nome da música)\n",
        "       * artists.csv\n",
        "           * id (id do artista)\n",
        "           * name (nome do artista)\n",
        "           * followers (número total de seguidores do artista)\n",
        "           * popularity (popularidade de determinado artista com base em todas as suas faixas)\n",
        "           * genres (gêneros associados a este artista)\n",
        "       * dict_artists.json\n",
        "            {\n",
        "                \"qualquer\": [\n",
        "                    \"primeiro\",\n",
        "                    \"segundo\",\n",
        "                    \"terceiro\",\n",
        "                    ...,\n",
        "                    \"enésimo\"\n",
        "                ],\n",
        "                \"em branco\": [],\n",
        "                \"primeiro: [\n",
        "                    \" qualquer \",\n",
        "                    \" terceiro \",\n",
        "                    \" segundo\n",
        "                ],\n",
        "                ...\n",
        "            }\n",
        "\n",
        "       * (As listas são classificadas em ordem decrescente, então \"primeiro\" é o mais semelhante a \"qualquer\" e \"segundo\" o segundo é mais e assim por diante... O número de artistas pode variar de 0 a 20)\n",
        "\n",
        "   * Link de Acesso: https://www.kaggle.com/datasets/yamaerenay/spotify-dataset-19212020-600k-tracks/data\n",
        "\n"
      ]
    },
    {
      "cell_type": "code",
      "source": [
        "from google.colab import drive\n",
        "drive.mount('/content/drive')"
      ],
      "metadata": {
        "id": "h3ZSzJdSW3LL",
        "colab": {
          "base_uri": "https://localhost:8080/"
        },
        "outputId": "afce7a68-0393-4c09-ede2-a68097d25460"
      },
      "execution_count": 1,
      "outputs": [
        {
          "output_type": "stream",
          "name": "stdout",
          "text": [
            "Mounted at /content/drive\n"
          ]
        }
      ]
    }
  ],
  "metadata": {
    "colab": {
      "provenance": [],
      "gpuType": "T4",
      "include_colab_link": true
    },
    "kernelspec": {
      "display_name": "Python 3",
      "name": "python3"
    },
    "language_info": {
      "codemirror_mode": {
        "name": "ipython",
        "version": 3
      },
      "file_extension": ".py",
      "mimetype": "text/x-python",
      "name": "python",
      "nbconvert_exporter": "python",
      "pygments_lexer": "ipython3",
      "version": "3.8.8"
    },
    "accelerator": "GPU"
  },
  "nbformat": 4,
  "nbformat_minor": 0
}