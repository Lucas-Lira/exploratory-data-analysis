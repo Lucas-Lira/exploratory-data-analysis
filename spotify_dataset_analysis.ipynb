{
  "cells": [
    {
      "cell_type": "markdown",
      "metadata": {
        "id": "view-in-github",
        "colab_type": "text"
      },
      "source": [
        "<a href=\"https://colab.research.google.com/github/Lucas-Lira/exploratory-data-analysis/blob/main/spotify_dataset_analysis.ipynb\" target=\"_parent\"><img src=\"https://colab.research.google.com/assets/colab-badge.svg\" alt=\"Open In Colab\"/></a>"
      ]
    },
    {
      "cell_type": "markdown",
      "metadata": {
        "id": "-DWO9IfJLBrN"
      },
      "source": [
        "# Analise de Dados – Spotify Dataset"
      ]
    },
    {
      "cell_type": "markdown",
      "metadata": {
        "id": "Pqwx0RyMLBrW"
      },
      "source": [
        "## Especificações da Base de Dados:\n",
        "   * Nome:\n",
        "       * Spotify Dataset 1921-2020, 600k+ Tracks\n",
        "    \n",
        "   * Estrutura:\n",
        "       * tracks.csv\n",
        "            * Primário :\n",
        "                - id (Id da trilha gerada pelo Spotify)\n",
        "            * Numérico :\n",
        "                - acousticness (varia de 0 a 1)\n",
        "                - danceability (varia de 0 a 1)\n",
        "                - energy (varia de 0 a 1)\n",
        "                - duration_ms (número inteiro normalmente varia de 200k a 300k)\n",
        "                - instrumentalness (varia de 0 a 1)\n",
        "                - valence (varia de 0 a 1)\n",
        "                - popularity (varia de 0 a 100)\n",
        "                - tempo (flutuação normalmente variando de 50 a 150)\n",
        "                - liveness (varia de 0 a 1)\n",
        "                - loudness (flutuação tipicamente variando de -60 a 0)\n",
        "                - speechiness (varia de 0 a 1)\n",
        "            * Fictício:\n",
        "                - mode (0 = Menor, 1 = Maior)\n",
        "                - explicit (0 = sem conteúdo explícito, 1 = conteúdo explícito)\n",
        "            * Categórico :\n",
        "                - key (todas as chaves na oitava codificadas como valores que variam de 0 a 11, começando em C como 0, C # como 1 e assim por diante ...)\n",
        "                - timesignature (a assinatura de tempo prevista, mais tipicamente 4)\n",
        "                - artists (lista dos artistas mencionados)\n",
        "                - artists_id (Ids dos artistas mencionados)\n",
        "                - release_date (data de lançamento principalmente no formato aaaa-mm-dd, no entanto, a precisão da data pode variar)\n",
        "                - name (nome da música)\n",
        "       * artists.csv\n",
        "           * id (id do artista)\n",
        "           * name (nome do artista)\n",
        "           * followers (número total de seguidores do artista)\n",
        "           * popularity (popularidade de determinado artista com base em todas as suas faixas)\n",
        "           * genres (gêneros associados a este artista)\n",
        "       * dict_artists.json\n",
        "            {\n",
        "                \"qualquer\": [\n",
        "                    \"primeiro\",\n",
        "                    \"segundo\",\n",
        "                    \"terceiro\",\n",
        "                    ...,\n",
        "                    \"enésimo\"\n",
        "                ],\n",
        "                \"em branco\": [],\n",
        "                \"primeiro: [\n",
        "                    \" qualquer \",\n",
        "                    \" terceiro \",\n",
        "                    \" segundo\n",
        "                ],\n",
        "                ...\n",
        "            }\n",
        "\n",
        "       * (As listas são classificadas em ordem decrescente, então \"primeiro\" é o mais semelhante a \"qualquer\" e \"segundo\" o segundo é mais e assim por diante... O número de artistas pode variar de 0 a 20)\n",
        "\n",
        "   * Link de Acesso: https://www.kaggle.com/datasets/yamaerenay/spotify-dataset-19212020-600k-tracks/data\n",
        "\n",
        "## Descrição do Projeto\n",
        "\n",
        "Este projeto tem como objetivo realizar uma análise de dados a partir de um conjunto contendo informações musicais. Durante o processo, foram adotadas algumas decisões metodológicas e técnicas específicas para garantir a consistência e a precisão dos resultados. Abaixo estão os principais pontos abordados:\n",
        "\n",
        "## Tratamento de Dados Nulos\n",
        "Optou-se por eliminar os valores nulos presentes no conjunto de dados. Outras técnicas de tratamento foram consideradas, mas acabaram sendo desconsideradas por não se adequarem ao contexto da análise.\n",
        "\n",
        "## Manipulação da Coluna \"artists\"\n",
        "A coluna **\"artists\"** apresenta vetores em seus registros, o que tornou necessário o desmembramento desses valores para garantir a precisão dos resultados. No entanto, devido ao grande volume de dados, uma enumeração completa de todos os valores da população mostrou-se inviável e extremamente demorada.\n",
        "\n",
        "Para contornar essa limitação, optamos por utilizar uma **amostra representativa dos dados**, garantindo um tamanho manejável e que possibilite uma análise fidedigna. Nos códigos, é possível observar o uso de comandos como `.head(X)`, onde **\"X\"** representa o tamanho da amostra utilizada.\n",
        "\n",
        "## Comentários no Código\n",
        "Para facilitar a compreensão dos passos realizados, foram adicionados comentários explicativos nas células contendo códigos. Recomenda-se a leitura atenta desses comentários para um melhor entendimento das decisões tomadas.\n",
        "\n",
        "## Execução do Notebook\n",
        "Dependendo do tamanho do dataframe, pode ser necessário iniciar o notebook com um aumento na taxa de transferência de dados. Utilize o seguinte comando para evitar problemas de execução:\n",
        "\n",
        "```bash\n",
        "jupyter notebook --NotebookApp.iopub_data_rate_limit=1.0e10"
      ]
    },
    {
      "cell_type": "code",
      "source": [
        "from google.colab import drive\n",
        "drive.mount('/content/drive')"
      ],
      "metadata": {
        "id": "h3ZSzJdSW3LL",
        "colab": {
          "base_uri": "https://localhost:8080/"
        },
        "outputId": "c9cd55e8-06dd-4ca3-9767-23fc180766af"
      },
      "execution_count": 2,
      "outputs": [
        {
          "output_type": "stream",
          "name": "stdout",
          "text": [
            "Drive already mounted at /content/drive; to attempt to forcibly remount, call drive.mount(\"/content/drive\", force_remount=True).\n"
          ]
        }
      ]
    }
  ],
  "metadata": {
    "colab": {
      "provenance": [],
      "gpuType": "T4",
      "include_colab_link": true
    },
    "kernelspec": {
      "display_name": "Python 3",
      "name": "python3"
    },
    "language_info": {
      "codemirror_mode": {
        "name": "ipython",
        "version": 3
      },
      "file_extension": ".py",
      "mimetype": "text/x-python",
      "name": "python",
      "nbconvert_exporter": "python",
      "pygments_lexer": "ipython3",
      "version": "3.8.8"
    },
    "accelerator": "GPU"
  },
  "nbformat": 4,
  "nbformat_minor": 0
}